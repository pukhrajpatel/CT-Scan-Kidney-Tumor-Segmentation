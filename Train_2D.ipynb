{
 "cells": [
  {
   "cell_type": "code",
   "execution_count": 3,
   "metadata": {},
   "outputs": [],
   "source": [
    "import matplotlib.pyplot as plt\n",
    "import numpy as np\n",
    "import torch\n",
    "import torch.nn as nn\n",
    "import os\n",
    "from torch.utils.data import Dataset, DataLoader\n",
    "import cv2\n",
    "import pandas as pd\n",
    "from torch.optim import Adam\n",
    "import random\n",
    "from tqdm import tqdm\n",
    "import segmentation_models_pytorch as smp"
   ]
  },
  {
   "attachments": {},
   "cell_type": "markdown",
   "metadata": {},
   "source": [
    "## Data Loading"
   ]
  },
  {
   "cell_type": "code",
   "execution_count": 3,
   "metadata": {},
   "outputs": [
    {
     "name": "stdout",
     "output_type": "stream",
     "text": [
      "<class 'list'>\n",
      "34920\n",
      "             name\n",
      "0    case_0_0.png\n",
      "1    case_0_1.png\n",
      "2   case_0_10.png\n",
      "3  case_0_100.png\n",
      "4  case_0_101.png\n",
      "['case_M_28_14.png', 'case_Y_114_64.png', 'case_M_155_78.png', 'case_R_156_13.png', 'case_M_95_9.png', 'case_M_115_19.png', 'case_Y_48_1.png', 'case_71_17.png', 'case_Y_158_8.png', 'case_53_97.png']\n"
     ]
    }
   ],
   "source": [
    "name_files = os.listdir('data_aug/images/')\n",
    "print(type(name_files))\n",
    "print(len(name_files))\n",
    "df = pd.DataFrame()\n",
    "df['name'] = name_files\n",
    "print(df.head())\n",
    "df.to_csv('names.csv', index= False)\n",
    "\n",
    "shuffle_names = name_files.copy()\n",
    "random.shuffle(shuffle_names)\n",
    "print(shuffle_names[0:10])\n",
    "\n",
    "df1 = pd.DataFrame()\n",
    "df1['name'] = shuffle_names\n",
    "df1.to_csv('names1.csv', index=False)"
   ]
  },
  {
   "cell_type": "code",
   "execution_count": 2,
   "metadata": {},
   "outputs": [],
   "source": [
    "class CTDataset(Dataset):\n",
    "    def __init__(self, data, img_width = 192, img_height = 192):\n",
    "        super().__init__()\n",
    "        self.data = data\n",
    "        self.img_width = img_width\n",
    "        self.img_height = img_height\n",
    "    \n",
    "    def __len__(self):\n",
    "        return len(self.data)\n",
    "    \n",
    "    def __getitem__(self, index):\n",
    "        img = cv2.imread('data_aug/images/' + self.data[index], 0)\n",
    "        img_label = cv2.imread('data_aug/labels/' + self.data[index], 0)\n",
    "        \n",
    "        img = cv2.resize(img, (self.img_width, self.img_height), interpolation = cv2.INTER_AREA)\n",
    "        img_label = cv2.resize(img_label, (self.img_width, self.img_height), interpolation = cv2.INTER_AREA)\n",
    "\n",
    "        img = img/255.0\n",
    "        img = np.expand_dims(img, 0)\n",
    "        img_label = img_label/127\n",
    "        img_label = img_label.astype('uint8')\n",
    "        #img_label = np.expand_dims(img_label, 0)\n",
    "\n",
    "        img = torch.as_tensor(img, dtype=torch.float32)\n",
    "        img_label = torch.as_tensor(img_label, dtype=torch.int32)\n",
    "\n",
    "        return img, img_label"
   ]
  },
  {
   "cell_type": "code",
   "execution_count": 4,
   "metadata": {},
   "outputs": [
    {
     "name": "stdout",
     "output_type": "stream",
     "text": [
      "Traning dataset size =  24444  images\n",
      "Testing dataset size =  3492  images\n",
      "Validation dataset size =  6984  images\n"
     ]
    }
   ],
   "source": [
    "df1 = pd.read_csv('names1.csv')\n",
    "shuffle_names = list(df1['name'])\n",
    "\n",
    "train_data = shuffle_names[0: int(0.7*len(shuffle_names))]\n",
    "test_data = shuffle_names[int(0.7*len(shuffle_names)):int(0.8*len(shuffle_names))]\n",
    "validation_data = shuffle_names[int(0.8*len(shuffle_names)):]\n",
    "\n",
    "print('Traning dataset size = ', len(train_data), ' images')\n",
    "print('Testing dataset size = ', len(test_data), ' images')\n",
    "print('Validation dataset size = ', len(validation_data), ' images')\n",
    "\n",
    "train_data = CTDataset(train_data, 64, 64)\n",
    "test_data = CTDataset(test_data, 64, 64)\n",
    "validation_data = CTDataset(validation_data, 64, 64)\n",
    "\n",
    "train_data_loader = DataLoader(train_data, batch_size=128)\n",
    "validation_data_loader = DataLoader(validation_data, batch_size=64)\n",
    "test_data_loader = DataLoader(test_data, batch_size=32)\n"
   ]
  },
  {
   "attachments": {},
   "cell_type": "markdown",
   "metadata": {},
   "source": [
    "## UNet Architecture and Loss functions"
   ]
  },
  {
   "cell_type": "code",
   "execution_count": 5,
   "metadata": {},
   "outputs": [],
   "source": [
    "class Conv(nn.Module):\n",
    "    def __init__(self, in_channels, out_channels):\n",
    "        super(Conv, self).__init__()\n",
    "        self.conv = nn.Conv2d(in_channels=in_channels, out_channels=out_channels, kernel_size=3, padding=1)\n",
    "        self.bn = nn.BatchNorm2d(out_channels)\n",
    "        self.relu = nn.ReLU(inplace=True)\n",
    "    def forward(self, x):\n",
    "        return self.relu(self.bn(self.conv(x)))\n",
    "\n",
    "class DownBlock(nn.Module):\n",
    "    def __init__(self, in_channels, out_channels):\n",
    "        super(DownBlock, self).__init__()\n",
    "        self.conv = Conv(in_channels, out_channels)\n",
    "        self.down_sample = nn.MaxPool2d(2)\n",
    "\n",
    "    def forward(self, x):\n",
    "        skip_out = self.conv(x)\n",
    "        down_out = self.down_sample(skip_out)\n",
    "        return (down_out, skip_out)\n",
    "    \n",
    "class UpBlock(nn.Module):\n",
    "    def __init__(self, in_channels, out_channels):\n",
    "        super(UpBlock, self).__init__()\n",
    "        self.up_sample = nn.ConvTranspose2d(in_channels=in_channels, out_channels=out_channels, kernel_size=2, stride=2)\n",
    "        self.conv = Conv(in_channels=in_channels, out_channels=out_channels)\n",
    "    \n",
    "    def forward(self, down_input, skip_input):\n",
    "        x = self.up_sample(down_input)\n",
    "        x = torch.cat([x, skip_input], dim = 1)\n",
    "        return self.conv(x)\n",
    "\n",
    "class UNet(nn.Module):\n",
    "    def __init__(self, out_classes = 3):\n",
    "        super(UNet, self).__init__()\n",
    "        self.down_c1 = DownBlock(1, 32) ## sz = (128, 32, )\n",
    "        self.down_c2 = DownBlock(32, 64)\n",
    "        self.down_c3 = DownBlock(64, 128)\n",
    "\n",
    "        self.bottom = Conv(128, 256)\n",
    "\n",
    "        self.up_c1 = UpBlock(256, 128)\n",
    "        self.up_c2 = UpBlock(128, 64)\n",
    "        self.up_c3 = UpBlock(64, 32)\n",
    "        \n",
    "        self.conv_final = nn.Conv2d(32, out_channels=out_classes, kernel_size=1)\n",
    "\n",
    "    def forward(self, x):\n",
    "        x, skip_out1 = self.down_c1(x)\n",
    "        x, skip_out2 = self.down_c2(x)\n",
    "        x, skip_out3 = self.down_c3(x)\n",
    "    \n",
    "        x = self.bottom(x)\n",
    "        \n",
    "        x = self.up_c1(x, skip_out3)\n",
    "        x = self.up_c2(x, skip_out2)\n",
    "        x = self.up_c3(x, skip_out1)\n",
    "\n",
    "        x = self.conv_final(x)\n",
    "        return x\n"
   ]
  },
  {
   "attachments": {},
   "cell_type": "markdown",
   "metadata": {},
   "source": [
    "## Training"
   ]
  },
  {
   "cell_type": "code",
   "execution_count": 8,
   "metadata": {},
   "outputs": [],
   "source": [
    "unet = torch.load('model3.pth')\n",
    "optimizer = torch.optim.Adam(unet.parameters(), lr = 1e-4)\n",
    "optimizer.load_state_dict(torch.load('optimizer3.pth'))\n",
    "\n",
    "criteria_1 = nn.CrossEntropyLoss()\n",
    "EPOCH = 50"
   ]
  },
  {
   "cell_type": "code",
   "execution_count": null,
   "metadata": {},
   "outputs": [],
   "source": [
    "Loss_train = []\n",
    "Loss_val = []\n",
    "for i in range(EPOCH):\n",
    "    loop = tqdm(train_data_loader)\n",
    "    loss_train = 0\n",
    "    loss_val = 0\n",
    "    for idx, (images, labels) in enumerate(loop):\n",
    "        y_pred = unet(images)\n",
    "        labels = labels.long()\n",
    "        loss = criteria_1(y_pred, labels)\n",
    "        loss_train += loss.detach().numpy()\n",
    "\n",
    "        optimizer.zero_grad()\n",
    "        loss.backward()\n",
    "        optimizer.step()\n",
    "    Loss_train.append(loss_train)\n",
    "\n",
    "    loop = tqdm(validation_data_loader)\n",
    "    with torch.no_grad():\n",
    "        for idx, (images, labels) in enumerate(loop):\n",
    "            y_pred = unet(images)\n",
    "            labels = labels.long()\n",
    "            loss = criteria_1(y_pred, labels)\n",
    "            loss_val += loss.detach().numpy()\n",
    "    Loss_val.append(loss_val)\n",
    "\n",
    "    print(f\"Epoch {i}/{EPOCH} ---->>>>> Training Loss = {loss_train*128/len(train_data)} |||| Validation Loss = {loss_val*64/len(validation_data)}\")\n",
    "    print('\\n')\n",
    "    torch.save(unet.state_dict(), 'model3_w.pth')\n",
    "    torch.save(optimizer.state_dict(), 'optimizer3.pth')\n",
    "    torch.save(unet, 'model3.pth')"
   ]
  },
  {
   "cell_type": "code",
   "execution_count": 24,
   "metadata": {},
   "outputs": [
    {
     "data": {
      "image/png": "[encoded data removed]",
      "text/plain": [
       "<Figure size 600x600 with 1 Axes>"
      ]
     },
     "metadata": {},
     "output_type": "display_data"
    }
   ],
   "source": [
    "plt.figure(figsize=(6, 6))\n",
    "epoch = np.arange(0, 29, 1)\n",
    "plt.plot(epoch, Loss_train, label = 'Training Loss')\n",
    "plt.plot(epoch, Loss_val, label = \"validation Loss\")\n",
    "plt.ylabel('Loss')\n",
    "plt.xlabel(\"Epoch\")\n",
    "plt.legend();\n",
    "plt.savefig('Loss.pdf');"
   ]
  },
  {
   "attachments": {},
   "cell_type": "markdown",
   "metadata": {},
   "source": [
    "## Testing and Evaluation Matrix"
   ]
  },
  {
   "attachments": {},
   "cell_type": "markdown",
   "metadata": {},
   "source": [
    "1. Dice coefficient\n",
    "2. Pixel Accuracy\n",
    "3. IoU or Jaccard index\n",
    "4. Precision\n",
    "5. Recall\n",
    "\n",
    "Ref Link :- https://towardsdatascience.com/metrics-to-evaluate-your-semantic-segmentation-model-6bcb99639aa2"
   ]
  },
  {
   "cell_type": "code",
   "execution_count": 11,
   "metadata": {},
   "outputs": [],
   "source": [
    "def count_dict(img):\n",
    "    count = {}\n",
    "    for i in range(img.shape[0]):\n",
    "        for j in range(img.shape[1]):\n",
    "            ky = img[i][j]\n",
    "            if ky in count.keys():\n",
    "                count[ky] += 1\n",
    "            else:\n",
    "                count[ky] = 1\n",
    "    if 1 not in count.keys():\n",
    "        count[1] = 0\n",
    "    if 2 not in count.keys():\n",
    "        count[2] = 0\n",
    "    return count\n",
    "\n",
    "def dice_socre(y_true, y_pred, counts_true, counts_pred, code = 2):\n",
    "    ### code : for which we need to calculate dice score , (kideny or tumor, or background)\n",
    "    ### code == 0 for background, 1 for kidney, 2 for tumor\n",
    "    ### Shape y_true, y_pred == (64, 64)\n",
    "    ### Type y_true, y_pred  == Torch.Tensor(int)\n",
    "\n",
    "    overlap_count = 0\n",
    "    for i in range(y_true.shape[0]):\n",
    "        for j in range(y_true.shape[1]):\n",
    "            if y_true[i][j] == code and y_true[i][j] == y_pred[i][j]:\n",
    "                overlap_count += 1\n",
    "    if counts_true[code] == 0 and counts_pred[code] == 0:\n",
    "        return 1\n",
    "    return 2*overlap_count/(counts_pred[code] + counts_true[code])\n",
    "\n",
    "def pixel_accuracy(y_true, y_pred):\n",
    "    correct_counts = 0\n",
    "    for i in range(y_true.shape[0]):\n",
    "        for j in range(y_true.shape[1]):\n",
    "            if y_true[i][j] == y_pred[i][j]:\n",
    "                correct_counts += 1\n",
    "    return correct_counts/(y_true.shape[0]*y_true.shape[1])\n",
    "\n",
    "def IoU(y_true, y_pred, counts_true, counts_pred, code = 2):\n",
    "    overlap_count = 0\n",
    "    for i in range(y_true.shape[0]):\n",
    "        for j in range(y_true.shape[1]):\n",
    "            if y_true[i][j] == code and y_true[i][j] == y_pred[i][j]:\n",
    "                overlap_count += 1\n",
    "    union_area = counts_pred[code] + counts_true[code] - overlap_count\n",
    "    if union_area == 0:\n",
    "        return 1\n",
    "    #print(union_area)\n",
    "    return overlap_count/union_area\n",
    "\n",
    "def precision(y_true, y_pred, counts_true, counts_pred, code = 2):\n",
    "    correct_count = 0\n",
    "    for i in range(y_true.shape[0]):\n",
    "        for j in range(y_true.shape[1]):\n",
    "            if y_pred[i][j] == code and y_pred[i][j] == y_true[i][j]:\n",
    "                correct_count += 1\n",
    "    if counts_true[code] != 0 and counts_pred[code] == 0:\n",
    "        return 0\n",
    "    elif counts_true[code] == 0 and counts_pred[code] == 0:\n",
    "        return 1\n",
    "    return correct_count/counts_pred[code]\n",
    "\n",
    "def recall(y_true, y_pred, counts_true, counts_pred, code = 2):\n",
    "    correct_count = 0\n",
    "    for i in range(y_true.shape[0]):\n",
    "        for j in range(y_true.shape[1]):\n",
    "            if y_pred[i][j] == code and y_pred[i][j] == y_true[i][j]:\n",
    "                correct_count += 1\n",
    "    if counts_pred[code] != 0 and counts_true[code] == 0:\n",
    "        return 0\n",
    "    elif counts_pred[code] == 0 and counts_true[code] == 0:\n",
    "        return 1\n",
    "    return correct_count/counts_true[code]"
   ]
  },
  {
   "cell_type": "code",
   "execution_count": 14,
   "metadata": {},
   "outputs": [
    {
     "name": "stderr",
     "output_type": "stream",
     "text": [
      "100%|██████████| 110/110 [48:38<00:00, 26.53s/it]"
     ]
    },
    {
     "name": "stdout",
     "output_type": "stream",
     "text": [
      "Dice score kidney:  [0.8239648587558784, 0.7933610786701419, 0.8014359359152747, 0.9087169358101841, 0.8270762725045301]\n",
      "Dice score tumor :  [0.8984540567501171, 0.7937635709989305, 0.8337302862839301, 0.8069150363808728, 0.8124727795225823]\n",
      "pixel accuracy   :  [0.9970932006835938, 0.9969024658203125, 0.9974517822265625, 0.9974822998046875, 0.9969100952148438]\n",
      "IoU score kidney :  [0.7356223049660543, 0.7149544872585123, 0.7463981576923522, 0.8372254406787468, 0.7387908593131473]\n",
      "IoU score tumor  :  [0.8722387415483532, 0.7793211269017719, 0.8077811878095061, 0.7870727197128851, 0.7852236941667513]\n",
      "Precision kidney :  [0.8169109111010073, 0.7554711981890434, 0.7843219465992399, 0.8723517284256675, 0.8398840615849694]\n",
      "Precision tumor  :  [0.9019831367211132, 0.7889067983539075, 0.8739894988167681, 0.8003764005602241, 0.8380159485255902]\n",
      "Recall kidney    :  [0.8427416083445072, 0.8509377931638276, 0.8221505310898038, 0.952577738204624, 0.8361201482821433]\n",
      "Recall tumor     :  [0.8990290642328687, 0.7996047557485919, 0.8301099450676126, 0.8202038770053476, 0.8190032748049052]\n"
     ]
    },
    {
     "name": "stderr",
     "output_type": "stream",
     "text": [
      "\n"
     ]
    }
   ],
   "source": [
    "unet = torch.load('model3.pth')\n",
    "unet.eval()\n",
    "\n",
    "dice_socre_kidney = []\n",
    "dice_socre_tumor = []\n",
    "pixel_accuracy_all = []\n",
    "iou_kidney = []\n",
    "iou_tumor = []\n",
    "precision_kidney = []\n",
    "precision_tumor = []\n",
    "recall_kidney = []\n",
    "recall_tumor = []\n",
    "\n",
    "loop = tqdm(test_data_loader)\n",
    "for idx, (images, labels) in enumerate(loop):\n",
    "    output = unet(images)                           ### shape == (bs, 3, 64, 64)\n",
    "    output = nn.functional.softmax(output, dim = 1) ### shape == (bs, 3, 64, 64)\n",
    "    out_labels = torch.max(output, dim = 1).indices ### shape == (1, 64, 64)\n",
    "    \n",
    "    dice1, dice2 = 0, 0\n",
    "    pixelAcc = 0\n",
    "    iou1, iou2 = 0, 0\n",
    "    prec1, prec2 = 0, 0\n",
    "    rec1, rec2 = 0, 0\n",
    "    for k in range(labels.shape[0]):\n",
    "        y_true = labels[k, :, :]\n",
    "        y_pred = out_labels[k, :, :]\n",
    "\n",
    "        counts_true = count_dict(y_true.detach().numpy())\n",
    "        counts_pred = count_dict(y_pred.detach().numpy())\n",
    "        \n",
    "        dice1 += dice_socre(y_true=y_true, y_pred=y_pred, counts_true=counts_true, counts_pred=counts_pred, code = 1)\n",
    "        dice2 += dice_socre(y_true=y_true, y_pred=y_pred, counts_true=counts_true, counts_pred=counts_pred, code = 2)\n",
    "\n",
    "        pixelAcc += pixel_accuracy(y_true=y_true, y_pred=y_pred)\n",
    "\n",
    "        iou1 += IoU(y_true=y_true, y_pred=y_pred, counts_true=counts_true, counts_pred=counts_pred, code = 1)\n",
    "        iou2 += IoU(y_true=y_true, y_pred=y_pred, counts_true=counts_true, counts_pred=counts_pred, code = 2)\n",
    "\n",
    "        prec1 += precision(y_true=y_true, y_pred=y_pred, counts_true=counts_true, counts_pred=counts_pred, code = 1)\n",
    "        prec2 += precision(y_true=y_true, y_pred=y_pred, counts_true=counts_true, counts_pred=counts_pred, code = 2)\n",
    "\n",
    "        rec1 += recall(y_true=y_true, y_pred=y_pred, counts_true=counts_true, counts_pred=counts_pred, code = 1)\n",
    "        rec2 += recall(y_true=y_true, y_pred=y_pred, counts_true=counts_true, counts_pred=counts_pred, code = 2)\n",
    "\n",
    "    dice_socre_kidney.append(dice1/labels.shape[0])\n",
    "    dice_socre_tumor.append(dice2/labels.shape[0])\n",
    "\n",
    "    pixel_accuracy_all.append(pixelAcc/labels.shape[0])\n",
    "\n",
    "    iou_kidney.append(iou1/labels.shape[0])\n",
    "    iou_tumor.append(iou2/labels.shape[0])\n",
    "\n",
    "    precision_kidney.append(prec1/labels.shape[0])\n",
    "    precision_tumor.append(prec2/labels.shape[0])\n",
    "\n",
    "    recall_kidney.append(rec1/labels.shape[0])\n",
    "    recall_tumor.append(rec2/labels.shape[0])\n",
    "\n",
    "print('Dice score kidney: ', dice_socre_kidney[0:5])\n",
    "print('Dice score tumor : ', dice_socre_tumor[0:5])\n",
    "print('pixel accuracy   : ', pixel_accuracy_all[0:5])\n",
    "print('IoU score kidney : ', iou_kidney[0:5])\n",
    "print('IoU score tumor  : ', iou_tumor[0:5])\n",
    "print('Precision kidney : ', precision_kidney[0:5])\n",
    "print('Precision tumor  : ', precision_tumor[0:5])\n",
    "print('Recall kidney    : ', recall_kidney[0:5])\n",
    "print('Recall tumor     : ', recall_tumor[0:5])"
   ]
  },
  {
   "cell_type": "code",
   "execution_count": 18,
   "metadata": {},
   "outputs": [
    {
     "name": "stdout",
     "output_type": "stream",
     "text": [
      "Avg. Dice score kidney:  0.819638289809324\n",
      "Avg. Dice score tumor :  0.8663169028354165\n",
      "\n",
      "\n",
      "Avg. pixel accuracy   :  0.9970061562278054\n",
      "\n",
      "\n",
      "Avg. IoU score kidney :  0.739885391127418\n",
      "Avg. IoU score tumor  :  0.8468300728933256\n",
      "\n",
      "\n",
      "Avg. Precision kidney :  0.8056878723649515\n",
      "Avg. Precision tumor  :  0.8726413360869919\n",
      "\n",
      "\n",
      "Avg. Recall kidney    :  0.8505664339451012\n",
      "Avg. Recall tumor     :  0.8729738293610146\n"
     ]
    }
   ],
   "source": [
    "print('Avg. Dice score kidney: ', np.mean(dice_socre_kidney))\n",
    "print('Avg. Dice score tumor : ', np.mean(dice_socre_tumor))\n",
    "print('\\n')\n",
    "print('Avg. pixel accuracy   : ', np.mean(pixel_accuracy_all))\n",
    "print('\\n')\n",
    "print('Avg. IoU score kidney : ', np.mean(iou_kidney))\n",
    "print('Avg. IoU score tumor  : ', np.mean(iou_tumor))\n",
    "print('\\n')\n",
    "print('Avg. Precision kidney : ', np.mean(precision_kidney))\n",
    "print('Avg. Precision tumor  : ', np.mean(precision_tumor))\n",
    "print('\\n')\n",
    "print('Avg. Recall kidney    : ', np.mean(recall_kidney))\n",
    "print('Avg. Recall tumor     : ', np.mean(recall_tumor))"
   ]
  },
  {
   "attachments": {},
   "cell_type": "markdown",
   "metadata": {},
   "source": [
    "## Some visualization on test data"
   ]
  },
  {
   "cell_type": "code",
   "execution_count": 88,
   "metadata": {},
   "outputs": [
    {
     "data": {
      "image/png": "[encoded data removed]",
      "text/plain": [
       "<Figure size 1200x1800 with 12 Axes>"
      ]
     },
     "metadata": {},
     "output_type": "display_data"
    }
   ],
   "source": [
    "## 120, 170, 180, 230, 260\n",
    "example_test_data = [test_data[i] for i in np.arange(230, 3000, 800)]\n",
    "\n",
    "#plt.figure(figsize=(18,12))\n",
    "fig, ax = plt.subplots(len(example_test_data), 3, figsize=(12, 18))\n",
    "# fig.set_figheight(6);\n",
    "# fig.set_figwidth(12);\n",
    "fig.tight_layout(h_pad=2);\n",
    "\n",
    "ax[0][0].set_title('original Images')\n",
    "ax[0][1].set_title('Ground Truth Labels')\n",
    "ax[0][2].set_title('Predicted Labels')\n",
    "\n",
    "for i in range(len(example_test_data)):\n",
    "    img_true = example_test_data[i][0]\n",
    "    img = img_true[None, :, :, :]\n",
    "    output = unet(img)               \n",
    "    output = nn.functional.softmax(output, dim = 1)\n",
    "    out_labels = torch.max(output, dim = 1).indices\n",
    "    out_labels = torch.squeeze(out_labels)\n",
    "    out_labels = (out_labels.detach().numpy()*127.5).astype('uint8')\n",
    "    out_labels = cv2.cvtColor(out_labels, cv2.COLOR_BGR2RGB)\n",
    "\n",
    "    true_labels = example_test_data[i][1]\n",
    "    true_labels = (true_labels.detach().numpy()*127.5).astype('uint8')\n",
    "    true_labels = cv2.cvtColor(true_labels, cv2.COLOR_BGR2RGB)\n",
    "\n",
    "    img_true = (torch.squeeze(img_true).detach().numpy()*255).astype('uint8')\n",
    "    img_true = cv2.cvtColor(img_true, cv2.COLOR_BGR2RGB)\n",
    "\n",
    "    ax[i][0].imshow(img_true)\n",
    "    ax[i][1].imshow(true_labels)\n",
    "    ax[i][2].imshow(out_labels)"
   ]
  },
  {
   "attachments": {},
   "cell_type": "markdown",
   "metadata": {},
   "source": [
    "## Torch Rough Work"
   ]
  },
  {
   "cell_type": "code",
   "execution_count": 15,
   "metadata": {},
   "outputs": [
    {
     "name": "stdout",
     "output_type": "stream",
     "text": [
      "tensor([[[[ 0.9403,  0.7719,  1.0794, -1.0783],\n",
      "          [-0.8741,  0.4280,  0.7981,  0.7977],\n",
      "          [ 0.5731, -0.3422,  0.0182, -1.1181],\n",
      "          [ 0.7392, -0.2434, -0.3881, -0.9267]],\n",
      "\n",
      "         [[-0.8489,  1.4813, -0.0867, -0.8130],\n",
      "          [ 0.0392, -1.3331,  1.7235, -0.2610],\n",
      "          [-0.1298, -0.9161, -0.1357,  3.2942],\n",
      "          [-0.6060,  0.5013, -0.5785, -1.2088]],\n",
      "\n",
      "         [[ 0.4358, -0.2307, -0.4719,  0.5385],\n",
      "          [ 1.2836,  0.2679, -0.3138, -2.1216],\n",
      "          [ 0.1118, -0.3626,  1.2301,  0.4903],\n",
      "          [-0.9737, -0.2090, -0.8946, -0.7493]]]])\n"
     ]
    },
    {
     "data": {
      "text/plain": [
       "torch.return_types.max(\n",
       "values=tensor([[[ 0.9403,  1.4813,  1.0794,  0.5385],\n",
       "         [ 1.2836,  0.4280,  1.7235,  0.7977],\n",
       "         [ 0.5731, -0.3422,  1.2301,  3.2942],\n",
       "         [ 0.7392,  0.5013, -0.3881, -0.7493]]]),\n",
       "indices=tensor([[[0, 1, 0, 2],\n",
       "         [2, 0, 1, 0],\n",
       "         [0, 0, 2, 1],\n",
       "         [0, 1, 0, 2]]]))"
      ]
     },
     "execution_count": 15,
     "metadata": {},
     "output_type": "execute_result"
    }
   ],
   "source": [
    "x = torch.randn((1, 3, 4, 4))\n",
    "print(x);\n",
    "y = torch.max(x, dim = 1)\n",
    "y"
   ]
  },
  {
   "cell_type": "code",
   "execution_count": 81,
   "metadata": {},
   "outputs": [
    {
     "name": "stdout",
     "output_type": "stream",
     "text": [
      "tensor([-0.4900], requires_grad=True)\n",
      "tensor([-0.4900], requires_grad=True)\n"
     ]
    }
   ],
   "source": [
    "loss = nn.CrossEntropyLoss()\n",
    "input = torch.randn(1, requires_grad=True)\n",
    "print(input)\n",
    "input.backward()\n",
    "print(input)\n",
    "# input = nn.functional.softmax(input)\n",
    "# print(input)\n",
    "# target = torch.empty(1, dtype=torch.long).random_(3)\n",
    "# print(target)\n",
    "# output = loss(input, target)\n",
    "# output"
   ]
  },
  {
   "cell_type": "code",
   "execution_count": 35,
   "metadata": {},
   "outputs": [
    {
     "name": "stdout",
     "output_type": "stream",
     "text": [
      "tensor([[[[-0.5102,  0.4540],\n",
      "          [-1.1849,  1.1663]]],\n",
      "\n",
      "\n",
      "        [[[-0.5115, -0.3655],\n",
      "          [-0.0146,  0.6027]]]])\n",
      "tensor([[[[0., 0.],\n",
      "          [0., 1.]],\n",
      "\n",
      "         [[1., 0.],\n",
      "          [0., 0.]],\n",
      "\n",
      "         [[0., 1.],\n",
      "          [1., 0.]]],\n",
      "\n",
      "\n",
      "        [[[1., 1.],\n",
      "          [0., 0.]],\n",
      "\n",
      "         [[0., 0.],\n",
      "          [1., 0.]],\n",
      "\n",
      "         [[0., 0.],\n",
      "          [0., 1.]]]])\n",
      "torch.Size([2, 3, 2, 2])\n",
      "tensor([[[[-0.0000,  0.0000],\n",
      "          [-0.0000,  1.1663]],\n",
      "\n",
      "         [[-0.5102,  0.0000],\n",
      "          [-0.0000,  0.0000]],\n",
      "\n",
      "         [[-0.0000,  0.4540],\n",
      "          [-1.1849,  0.0000]]],\n",
      "\n",
      "\n",
      "        [[[-0.5115, -0.3655],\n",
      "          [-0.0000,  0.0000]],\n",
      "\n",
      "         [[-0.0000, -0.0000],\n",
      "          [-0.0146,  0.0000]],\n",
      "\n",
      "         [[-0.0000, -0.0000],\n",
      "          [-0.0000,  0.6027]]]])\n",
      "tensor(-0.3637)\n"
     ]
    }
   ],
   "source": [
    "x = torch.randn((2, 1, 2, 2))\n",
    "print(x)\n",
    "y = torch.Tensor([[[[0, 0], [0, 1]], [[1, 0], [0, 0]], [[0, 1], [1, 0]]], [[[1, 1], [0, 0]], [[0, 0], [1, 0]], [[0, 0], [0, 1]]]])\n",
    "print(y)\n",
    "print(y.shape)\n",
    "z = torch.mul(x,y)\n",
    "print(z)\n",
    "print(torch.sum(z))"
   ]
  },
  {
   "cell_type": "code",
   "execution_count": 34,
   "metadata": {},
   "outputs": [
    {
     "name": "stdout",
     "output_type": "stream",
     "text": [
      "tensor([[[[ 0.7883,  0.0712],\n",
      "          [ 1.2557, -0.2249]],\n",
      "\n",
      "         [[-0.5806, -0.1332],\n",
      "          [-0.9678, -0.4180]],\n",
      "\n",
      "         [[-0.7863, -1.1898],\n",
      "          [ 0.3652, -0.6051]]],\n",
      "\n",
      "\n",
      "        [[[-1.0648, -1.3584],\n",
      "          [ 0.8919,  0.2630]],\n",
      "\n",
      "         [[ 0.5256, -0.2173],\n",
      "          [-0.1505,  1.8619]],\n",
      "\n",
      "         [[-1.1569,  0.6147],\n",
      "          [-0.6232, -1.2856]]]])\n",
      "torch.Size([2, 3, 2, 2])\n",
      "torch.Size([2, 3, 2, 2])\n",
      "tensor(-5.4894)\n"
     ]
    }
   ],
   "source": [
    "x = torch.randn((2, 3, 2, 2))\n",
    "print(x)\n",
    "y = torch.Tensor([[[[0, 0], [0, 1]], [[1, 0], [0, 0]], [[0, 1], [1, 0]]], [[[1, 1], [0, 0]], [[0, 0], [1, 0]], [[0, 0], [0, 1]]]])\n",
    "print(y.shape)\n",
    "z = torch.mul(x,y)\n",
    "print(z.shape)\n",
    "print(torch.sum(z))"
   ]
  },
  {
   "cell_type": "code",
   "execution_count": 31,
   "metadata": {},
   "outputs": [
    {
     "name": "stdout",
     "output_type": "stream",
     "text": [
      "tensor([[[-1.0025, -1.2247],\n",
      "         [-1.6397,  0.5732]],\n",
      "\n",
      "        [[-2.2392, -0.7644],\n",
      "         [ 1.5000, -1.0299]]])\n",
      "torch.Size([2, 2, 2])\n",
      "tensor([[[-0.0000, -0.0000],\n",
      "         [-0.0000,  0.5732]],\n",
      "\n",
      "        [[-2.2392, -0.0000],\n",
      "         [ 0.0000, -0.0000]]])\n",
      "tensor(-1.6660)\n"
     ]
    },
    {
     "data": {
      "text/plain": [
       "tensor([[[   -inf,    -inf],\n",
       "         [   -inf, -0.2417]],\n",
       "\n",
       "        [[    nan,    -inf],\n",
       "         [   -inf,    -inf]]])"
      ]
     },
     "execution_count": 31,
     "metadata": {},
     "output_type": "execute_result"
    }
   ],
   "source": [
    "x = torch.randn((2, 2, 2))\n",
    "print(x)\n",
    "y = torch.Tensor([[[0, 0], [0, 1]], [[1, 0], [0, 0]]])\n",
    "print(y.shape)\n",
    "z = torch.mul(x,y)\n",
    "print(z)\n",
    "print(torch.sum(z))"
   ]
  },
  {
   "cell_type": "code",
   "execution_count": 25,
   "metadata": {},
   "outputs": [
    {
     "name": "stdout",
     "output_type": "stream",
     "text": [
      "tensor([[[[-0.9537, -0.2496],\n",
      "          [-1.4673, -0.0178]]],\n",
      "\n",
      "\n",
      "        [[[ 1.3093,  0.0227],\n",
      "          [ 0.8229, -0.8040]]]])\n",
      "tensor(12.3268)\n",
      "tensor(0.1622)\n"
     ]
    }
   ],
   "source": [
    "x = torch.randn((2, 1, 2, 2))\n",
    "print(x)\n",
    "y = x**2\n",
    "z = torch.sum(y)\n",
    "z1 = z + z\n",
    "print(z1)\n",
    "z2 = torch.tensor(2)\n",
    "z3 = z2/z1\n",
    "print(z3)"
   ]
  },
  {
   "cell_type": "code",
   "execution_count": 21,
   "metadata": {},
   "outputs": [
    {
     "name": "stdout",
     "output_type": "stream",
     "text": [
      "tensor([[[[ 1.0043,  1.0737],\n",
      "          [ 0.4996, -1.2335]],\n",
      "\n",
      "         [[ 1.1514, -2.1474],\n",
      "          [ 1.0749,  0.4478]]],\n",
      "\n",
      "\n",
      "        [[[-2.0829, -0.8634],\n",
      "          [-0.1774,  1.4739]],\n",
      "\n",
      "         [[ 0.4813,  1.3326],\n",
      "          [-2.0650,  1.2493]]]])\n",
      "torch.Size([2, 2, 2])\n",
      "torch.Size([2, 1, 2, 2])\n",
      "tensor([[[[ 1.0043,  1.0737],\n",
      "          [ 0.4996, -1.2335]]],\n",
      "\n",
      "\n",
      "        [[[-2.0829, -0.8634],\n",
      "          [-0.1774,  1.4739]]]])\n"
     ]
    }
   ],
   "source": [
    "x = torch.randn((2, 2, 2, 2))\n",
    "x1 = x[:, 0, :, :]\n",
    "print(x1.shape)\n",
    "x1 = x1[:, None, :, :]\n",
    "print(x1.shape)"
   ]
  },
  {
   "cell_type": "code",
   "execution_count": 48,
   "metadata": {},
   "outputs": [
    {
     "name": "stdout",
     "output_type": "stream",
     "text": [
      "torch.Size([1, 30, 192, 192])\n",
      "torch.Size([1, 60, 96, 96])\n",
      "torch.Size([1, 120, 48, 48])\n",
      "torch.Size([1, 240, 24, 24])\n",
      "torch.Size([1, 320, 12, 12])\n",
      "torch.Size([1, 480, 6, 6])\n",
      "\n",
      "torch.Size([1, 640, 12, 12])\n",
      "torch.Size([1, 320, 12, 12])\n",
      "torch.Size([1, 480, 24, 24])\n",
      "torch.Size([1, 240, 24, 24])\n",
      "torch.Size([1, 240, 48, 48])\n",
      "torch.Size([1, 120, 48, 48])\n",
      "torch.Size([1, 120, 96, 96])\n",
      "torch.Size([1, 60, 96, 96])\n",
      "torch.Size([1, 60, 192, 192])\n",
      "torch.Size([1, 30, 192, 192])\n",
      "torch.Size([1, 3, 192, 192])\n"
     ]
    },
    {
     "name": "stderr",
     "output_type": "stream",
     "text": [
      "C:\\Users\\PUKHRAJ\\AppData\\Local\\Temp\\ipykernel_38548\\29590285.py:82: UserWarning: Implicit dimension choice for softmax has been deprecated. Change the call to include dim=X as an argument.\n",
      "  out = nn.functional.softmax(x_dec_conv6)\n"
     ]
    }
   ],
   "source": [
    "unet = UNet()\n",
    "x = torch.randn((1, 1, 192, 192))\n",
    "y = unet(x)"
   ]
  },
  {
   "cell_type": "code",
   "execution_count": 108,
   "metadata": {},
   "outputs": [
    {
     "name": "stdout",
     "output_type": "stream",
     "text": [
      "tensor([[[[-1.0616, -1.0825],\n",
      "          [ 0.6276, -0.0519]],\n",
      "\n",
      "         [[ 0.1739,  0.7869],\n",
      "          [-2.0334,  1.8480]],\n",
      "\n",
      "         [[ 0.8959,  0.4952],\n",
      "          [ 0.1819,  0.7025]]],\n",
      "\n",
      "\n",
      "        [[[ 2.7887,  0.3892],\n",
      "          [-0.6484, -0.6492]],\n",
      "\n",
      "         [[ 1.4715,  0.3408],\n",
      "          [-1.2464,  1.0920]],\n",
      "\n",
      "         [[-0.6423, -1.0167],\n",
      "          [ 0.0054, -0.8040]]]])\n"
     ]
    },
    {
     "data": {
      "text/plain": [
       "tensor([[[[0.0868, 0.0811],\n",
       "          [0.5847, 0.1019]],\n",
       "\n",
       "         [[0.2986, 0.5260],\n",
       "          [0.0409, 0.6814]],\n",
       "\n",
       "         [[0.6146, 0.3929],\n",
       "          [0.3744, 0.2167]]],\n",
       "\n",
       "\n",
       "        [[[0.7691, 0.4550],\n",
       "          [0.2880, 0.1323]],\n",
       "\n",
       "         [[0.2060, 0.4335],\n",
       "          [0.1583, 0.7544]],\n",
       "\n",
       "         [[0.0249, 0.1115],\n",
       "          [0.5537, 0.1133]]]])"
      ]
     },
     "execution_count": 108,
     "metadata": {},
     "output_type": "execute_result"
    }
   ],
   "source": [
    "x = torch.randn((2, 3, 2, 2))\n",
    "print(x)\n",
    "#x1 = torch.randn((2, 3, 3))\n",
    "#y = torch.cat((x, x1), 0)\n",
    "y1 = nn.functional.softmax(x, dim = 1)\n",
    "y1 "
   ]
  }
 ],
 "metadata": {
  "kernelspec": {
   "display_name": "Python 3",
   "language": "python",
   "name": "python3"
  },
  "language_info": {
   "codemirror_mode": {
    "name": "ipython",
    "version": 3
   },
   "file_extension": ".py",
   "mimetype": "text/x-python",
   "name": "python",
   "nbconvert_exporter": "python",
   "pygments_lexer": "ipython3",
   "version": "3.10.4"
  },
  "orig_nbformat": 4,
  "vscode": {
   "interpreter": {
    "hash": "5f862cf0399e2e942934ad8be21f1636198d7cd8b2147941b67273b53cf052f9"
   }
  }
 },
 "nbformat": 4,
 "nbformat_minor": 2
}
